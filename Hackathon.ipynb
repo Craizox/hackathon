{
 "cells": [
  {
   "cell_type": "code",
   "source": [
    "import matplotlib.pyplot as plt"
   ],
   "execution_count": 153,
   "outputs": [],
   "metadata": {}
  },
  {
   "cell_type": "code",
   "source": [
    "from Hackaton.python.read_pics import get_pics_from_file"
   ],
   "execution_count": 154,
   "outputs": [],
   "metadata": {}
  },
  {
   "cell_type": "code",
   "source": [
    "# pics_name = [\"pics_0\", \"pics_1\", \"pics_2\", \"pics_3\", \"pics_4\", \"pics_5\", \"pics_6\", \"pics_7\", \"pics_8\", \"pics_9\", \"pics_NOKEY\"]\n",
    "pics_name = [\"pics_0\", \"pics_1\"]"
   ],
   "execution_count": 155,
   "outputs": [],
   "metadata": {}
  },
  {
   "cell_type": "code",
   "source": [
    "# import all pics\n",
    "pics = dict()\n",
    "info = dict()\n",
    "listpics = []\n",
    "for pic in pics_name:\n",
    "    (curr_pic, info[pic]) = get_pics_from_file(f'Hackaton/data/{pic}.bin')\n",
    "    pics[pic] = curr_pic\n",
    "    listpics.append(pic)"
   ],
   "execution_count": 156,
   "outputs": [
    {
     "name": "stdout",
     "output_type": "stream",
     "text": [
      "Ouverture du fichier de pics Hackaton/data/pics_0.bin\n",
      "Ouverture du fichier de pics Hackaton/data/pics_1.bin\n"
     ]
    }
   ],
   "metadata": {}
  },
  {
   "cell_type": "code",
   "source": [
    "# List of name (X)\n",
    "len([\"pics_0\", \"pics_1\", \"pics_2\", \"pics_3\"])"
   ],
   "execution_count": 157,
   "outputs": [
    {
     "data": {
      "text/plain": "4"
     },
     "execution_count": 157,
     "metadata": {},
     "output_type": "execute_result"
    }
   ],
   "metadata": {}
  },
  {
   "cell_type": "code",
   "source": [
    "# list of name (Y)\n",
    "print(\"toto\")"
   ],
   "execution_count": 158,
   "outputs": [
    {
     "name": "stdout",
     "output_type": "stream",
     "text": [
      "toto\n"
     ]
    }
   ],
   "metadata": {}
  },
  {
   "cell_type": "code",
   "source": [
    "plt.figure(1)\n",
    "plt.subplot(211)\n",
    "#plt.plot(range(1,info[\"nb_pics\"]+1), pics_nokey[0], 'ko', color='green')\n",
    "#plt.plot(range(1,info[\"nb_pics\"]+1), pics_pad0[0], 'ko', color='red')\n",
    "#plt.plot(range(1,info[\"nb_pics\"]+1), pics_pad1[0], 'ko', color='orange')\n",
    "plt.xlabel('numéro de pic')\n",
    "plt.ylabel('valeur du pic')\n",
    "plt.title('no key')\n",
    "plt.ylim(0, 1.5)\n",
    "plt.grid(b=True, which='both')"
   ],
   "execution_count": 159,
   "outputs": [
    {
     "data": {
      "text/plain": "<Figure size 432x288 with 1 Axes>",
      "image/png": "[encoded data removed]"
     },
     "metadata": {
      "needs_background": "light"
     },
     "output_type": "display_data"
    }
   ],
   "metadata": {}
  },
  {
   "cell_type": "code",
   "source": [],
   "execution_count": 159,
   "outputs": [],
   "metadata": {}
  },
  {
   "cell_type": "code",
   "execution_count": 160,
   "outputs": [
    {
     "name": "stdout",
     "output_type": "stream",
     "text": [
      "Ouverture du fichier de pics Hackaton/data/pics_LOGINMDP.bin\n"
     ]
    }
   ],
   "source": [
    "a, b = get_pics_from_file(f'Hackaton/data/pics_LOGINMDP.bin')"
   ],
   "metadata": {
    "collapsed": false,
    "pycharm": {
     "name": "#%%\n"
    }
   }
  },
  {
   "cell_type": "code",
   "execution_count": 161,
   "outputs": [
    {
     "data": {
      "text/plain": "11101"
     },
     "execution_count": 161,
     "metadata": {},
     "output_type": "execute_result"
    }
   ],
   "source": [
    "len(a)"
   ],
   "metadata": {
    "collapsed": false,
    "pycharm": {
     "name": "#%%\n"
    }
   }
  },
  {
   "cell_type": "code",
   "execution_count": 162,
   "outputs": [
    {
     "data": {
      "text/plain": "17"
     },
     "execution_count": 162,
     "metadata": {},
     "output_type": "execute_result"
    }
   ],
   "source": [
    "len(a[666])"
   ],
   "metadata": {
    "collapsed": false,
    "pycharm": {
     "name": "#%%\n"
    }
   }
  },
  {
   "cell_type": "code",
   "execution_count": 163,
   "outputs": [],
   "source": [
    "def print_touche(touches_info):\n",
    "\n",
    "    plt.figure(1)\n",
    "    plt.subplot(211)\n",
    "    for (touches, info) in touches_info:\n",
    "        for touche in touches:\n",
    "            plt.plot(range(1,info[\"nb_pics\"]+1), touche, 'ko')\n",
    "    plt.xlabel('numéro de pic')\n",
    "    plt.ylabel('valeur du pic')\n",
    "    plt.title('no key')\n",
    "    plt.ylim(0, 1.5)\n",
    "    plt.grid(b=True, which='both')"
   ],
   "metadata": {
    "collapsed": false,
    "pycharm": {
     "name": "#%%\n"
    }
   }
  },
  {
   "cell_type": "code",
   "execution_count": 164,
   "outputs": [
    {
     "name": "stdout",
     "output_type": "stream",
     "text": [
      "Ouverture du fichier de pics Hackaton/data/pics_LOGINMDP.bin\n"
     ]
    },
    {
     "data": {
      "text/plain": "<Figure size 432x288 with 1 Axes>",
      "image/png": "[encoded data removed]"
     },
     "metadata": {
      "needs_background": "light"
     },
     "output_type": "display_data"
    }
   ],
   "source": [
    "a, b = get_pics_from_file(f'Hackaton/data/pics_LOGINMDP.bin')\n",
    "print_touche([(a[:200], b)])"
   ],
   "metadata": {
    "collapsed": false,
    "pycharm": {
     "name": "#%%\n"
    }
   }
  },
  {
   "cell_type": "code",
   "execution_count": 189,
   "outputs": [
    {
     "name": "stdout",
     "output_type": "stream",
     "text": [
      "Ouverture du fichier de pics Hackaton/data/pics_2.bin\n",
      "{'nb_pics': 17, 'freq_sampling_khz': 625.0, 'freq_trame_hz': 315.0, 'freq_pic_khz': 50.0, 'norm_fact': 0.05}\n"
     ]
    },
    {
     "data": {
      "text/plain": "<Figure size 432x288 with 1 Axes>",
      "image/png": "[encoded data removed]"
     },
     "metadata": {
      "needs_background": "light"
     },
     "output_type": "display_data"
    }
   ],
   "source": [
    "a, b = get_pics_from_file(f'Hackaton/data/pics_2.bin')\n",
    "print_touche([(a[:200], b)])\n",
    "print(b)"
   ],
   "metadata": {
    "collapsed": false,
    "pycharm": {
     "name": "#%%\n"
    }
   }
  },
  {
   "cell_type": "code",
   "execution_count": 190,
   "outputs": [
    {
     "name": "stdout",
     "output_type": "stream",
     "text": [
      "Ouverture du fichier de pics Hackaton/data/pics_R.bin\n",
      "{'nb_pics': 17, 'freq_sampling_khz': 625.0, 'freq_trame_hz': 315.0, 'freq_pic_khz': 50.0, 'norm_fact': 0.05}\n"
     ]
    },
    {
     "data": {
      "text/plain": "<Figure size 432x288 with 1 Axes>",
      "image/png": "[encoded data removed]"
     },
     "metadata": {
      "needs_background": "light"
     },
     "output_type": "display_data"
    }
   ],
   "source": [
    "a, b = get_pics_from_file(f'Hackaton/data/pics_R.bin')\n",
    "print_touche([(a[:200], b)])\n",
    "print(b)"
   ],
   "metadata": {
    "collapsed": false,
    "pycharm": {
     "name": "#%%\n"
    }
   }
  },
  {
   "cell_type": "code",
   "execution_count": 167,
   "outputs": [],
   "source": [
    "# Pre-processing\n",
    "from sklearn.preprocessing import Normalizer\n",
    "from sklearn.preprocessing import MinMaxScaler\n",
    "from sklearn.preprocessing import StandardScaler\n",
    "from sklearn import decomposition\n",
    "\n",
    "def PCA(touches_info):\n",
    "    X_size = 17     # Number of features (Pics after PCA)\n",
    "    y_size = 42     # Number of keys\n",
    "\n",
    "    X_train = None\n",
    "    y_train = None\n",
    "\n",
    "    X_test = None\n",
    "    y_test = None\n",
    "\n",
    "    for (touches, info) in touches_info:\n",
    "        for touche in touches:\n",
    "            # Normalize\n",
    "            touche = Normalizer().fit_transform(touche)\n",
    "\n",
    "            # Standardize\n",
    "            touche = StandardScaler().fit_transform(touche)\n",
    "\n",
    "            # PCA\n",
    "            pca = decomposition.PCA(n_components=2)\n",
    "            pca.fit(X)\n",
    "            X = pca.transform(X)\n",
    "\n"
   ],
   "metadata": {
    "collapsed": false,
    "pycharm": {
     "name": "#%%\n"
    }
   }
  },
  {
   "cell_type": "code",
   "execution_count": 168,
   "outputs": [],
   "source": [
    "import matplotlib.pyplot as plt\n",
    "import numpy as np\n",
    "import pandas as pd\n",
    "import os"
   ],
   "metadata": {
    "collapsed": false,
    "pycharm": {
     "name": "#%%\n"
    }
   }
  },
  {
   "cell_type": "code",
   "execution_count": 169,
   "outputs": [],
   "source": [
    "pics_name = os.listdir('Hackaton/data/')\n",
    "pics_name.remove('pics_LOGINMDP.bin')\n"
   ],
   "metadata": {
    "collapsed": false,
    "pycharm": {
     "name": "#%%\n"
    }
   }
  },
  {
   "cell_type": "code",
   "execution_count": 170,
   "outputs": [
    {
     "name": "stdout",
     "output_type": "stream",
     "text": [
      "Ouverture du fichier de pics Hackaton/data/pics_0.bin\n",
      "Ouverture du fichier de pics Hackaton/data/pics_1.bin\n",
      "Ouverture du fichier de pics Hackaton/data/pics_2.bin\n",
      "Ouverture du fichier de pics Hackaton/data/pics_3.bin\n",
      "Ouverture du fichier de pics Hackaton/data/pics_4.bin\n",
      "Ouverture du fichier de pics Hackaton/data/pics_5.bin\n",
      "Ouverture du fichier de pics Hackaton/data/pics_6.bin\n",
      "Ouverture du fichier de pics Hackaton/data/pics_7.bin\n",
      "Ouverture du fichier de pics Hackaton/data/pics_8.bin\n",
      "Ouverture du fichier de pics Hackaton/data/pics_9.bin\n",
      "Ouverture du fichier de pics Hackaton/data/pics_A.bin\n",
      "Ouverture du fichier de pics Hackaton/data/pics_B.bin\n",
      "Ouverture du fichier de pics Hackaton/data/pics_C.bin\n",
      "Ouverture du fichier de pics Hackaton/data/pics_CTRL.bin\n",
      "Ouverture du fichier de pics Hackaton/data/pics_D.bin\n",
      "Ouverture du fichier de pics Hackaton/data/pics_E.bin\n",
      "Ouverture du fichier de pics Hackaton/data/pics_ENTER.bin\n",
      "Ouverture du fichier de pics Hackaton/data/pics_F.bin\n",
      "Ouverture du fichier de pics Hackaton/data/pics_G.bin\n",
      "Ouverture du fichier de pics Hackaton/data/pics_H.bin\n",
      "Ouverture du fichier de pics Hackaton/data/pics_I.bin\n",
      "Ouverture du fichier de pics Hackaton/data/pics_J.bin\n",
      "Ouverture du fichier de pics Hackaton/data/pics_K.bin\n",
      "Ouverture du fichier de pics Hackaton/data/pics_L.bin\n",
      "Ouverture du fichier de pics Hackaton/data/pics_M.bin\n",
      "Ouverture du fichier de pics Hackaton/data/pics_N.bin\n",
      "Ouverture du fichier de pics Hackaton/data/pics_NOKEY.bin\n",
      "Ouverture du fichier de pics Hackaton/data/pics_O.bin\n",
      "Ouverture du fichier de pics Hackaton/data/pics_P.bin\n",
      "Ouverture du fichier de pics Hackaton/data/pics_Q.bin\n",
      "Ouverture du fichier de pics Hackaton/data/pics_R.bin\n",
      "Ouverture du fichier de pics Hackaton/data/pics_S.bin\n",
      "Ouverture du fichier de pics Hackaton/data/pics_SHIFT.bin\n",
      "Ouverture du fichier de pics Hackaton/data/pics_SPACE.bin\n",
      "Ouverture du fichier de pics Hackaton/data/pics_SUPPR.bin\n",
      "Ouverture du fichier de pics Hackaton/data/pics_T.bin\n",
      "Ouverture du fichier de pics Hackaton/data/pics_U.bin\n",
      "Ouverture du fichier de pics Hackaton/data/pics_V.bin\n",
      "Ouverture du fichier de pics Hackaton/data/pics_W.bin\n",
      "Ouverture du fichier de pics Hackaton/data/pics_X.bin\n",
      "Ouverture du fichier de pics Hackaton/data/pics_Y.bin\n",
      "Ouverture du fichier de pics Hackaton/data/pics_Z.bin\n"
     ]
    },
    {
     "data": {
      "text/plain": "          0         1         2         3         4         5         6  \\\n0  0.968018  1.348877  0.230713  0.941162  0.811157  0.838623  0.671997   \n1  0.754395  1.149902  0.137939  1.062012  0.589600  0.745239  0.734253   \n2  0.765991  1.292725  0.225830  1.033325  0.750122  0.550537  0.760498   \n3  0.573730  0.880127  1.459351  0.375977  1.184692  0.697021  0.614014   \n4  0.428467  0.922241  1.361694  0.296631  1.135254  0.856934  0.629883   \n5  0.908203  1.404419  0.296021  0.689697  0.859375  0.614014  0.723877   \n\n          7         8         9        10        11        12        13  \\\n0  0.506592  0.765991  0.277100  0.477295  0.569458  0.371704  0.802002   \n1  0.904541  0.669556  0.085449  0.650635  0.791626  0.339355  0.538330   \n2  0.451660  0.767822  0.393066  0.463867  0.661011  0.431519  0.609741   \n3  0.910645  1.012573  0.670776  0.264282  0.765991  0.631714  0.355835   \n4  0.707397  0.797729  0.759888  0.233154  0.765991  0.765991  0.623169   \n5  0.817871  0.854492  0.184326  0.659180  0.805054  0.373535  0.736084   \n\n         14        15        16        name  \n0  0.634155  0.509033  0.567017  pics_0.bin  \n1  0.848999  0.687256  0.356445  pics_0.bin  \n2  0.845947  0.637207  0.558472  pics_0.bin  \n3  0.656128  1.054688  0.786133  pics_0.bin  \n4  0.587158  0.908813  0.946045  pics_0.bin  \n5  0.798340  0.849609  0.279541  pics_0.bin  ",
      "text/html": "<div>\n<style scoped>\n    .dataframe tbody tr th:only-of-type {\n        vertical-align: middle;\n    }\n\n    .dataframe tbody tr th {\n        vertical-align: top;\n    }\n\n    .dataframe thead th {\n        text-align: right;\n    }\n</style>\n<table border=\"1\" class=\"dataframe\">\n  <thead>\n    <tr style=\"text-align: right;\">\n      <th></th>\n      <th>0</th>\n      <th>1</th>\n      <th>2</th>\n      <th>3</th>\n      <th>4</th>\n      <th>5</th>\n      <th>6</th>\n      <th>7</th>\n      <th>8</th>\n      <th>9</th>\n      <th>10</th>\n      <th>11</th>\n      <th>12</th>\n      <th>13</th>\n      <th>14</th>\n      <th>15</th>\n      <th>16</th>\n      <th>name</th>\n    </tr>\n  </thead>\n  <tbody>\n    <tr>\n      <th>0</th>\n      <td>0.968018</td>\n      <td>1.348877</td>\n      <td>0.230713</td>\n      <td>0.941162</td>\n      <td>0.811157</td>\n      <td>0.838623</td>\n      <td>0.671997</td>\n      <td>0.506592</td>\n      <td>0.765991</td>\n      <td>0.277100</td>\n      <td>0.477295</td>\n      <td>0.569458</td>\n      <td>0.371704</td>\n      <td>0.802002</td>\n      <td>0.634155</td>\n      <td>0.509033</td>\n      <td>0.567017</td>\n      <td>pics_0.bin</td>\n    </tr>\n    <tr>\n      <th>1</th>\n      <td>0.754395</td>\n      <td>1.149902</td>\n      <td>0.137939</td>\n      <td>1.062012</td>\n      <td>0.589600</td>\n      <td>0.745239</td>\n      <td>0.734253</td>\n      <td>0.904541</td>\n      <td>0.669556</td>\n      <td>0.085449</td>\n      <td>0.650635</td>\n      <td>0.791626</td>\n      <td>0.339355</td>\n      <td>0.538330</td>\n      <td>0.848999</td>\n      <td>0.687256</td>\n      <td>0.356445</td>\n      <td>pics_0.bin</td>\n    </tr>\n    <tr>\n      <th>2</th>\n      <td>0.765991</td>\n      <td>1.292725</td>\n      <td>0.225830</td>\n      <td>1.033325</td>\n      <td>0.750122</td>\n      <td>0.550537</td>\n      <td>0.760498</td>\n      <td>0.451660</td>\n      <td>0.767822</td>\n      <td>0.393066</td>\n      <td>0.463867</td>\n      <td>0.661011</td>\n      <td>0.431519</td>\n      <td>0.609741</td>\n      <td>0.845947</td>\n      <td>0.637207</td>\n      <td>0.558472</td>\n      <td>pics_0.bin</td>\n    </tr>\n    <tr>\n      <th>3</th>\n      <td>0.573730</td>\n      <td>0.880127</td>\n      <td>1.459351</td>\n      <td>0.375977</td>\n      <td>1.184692</td>\n      <td>0.697021</td>\n      <td>0.614014</td>\n      <td>0.910645</td>\n      <td>1.012573</td>\n      <td>0.670776</td>\n      <td>0.264282</td>\n      <td>0.765991</td>\n      <td>0.631714</td>\n      <td>0.355835</td>\n      <td>0.656128</td>\n      <td>1.054688</td>\n      <td>0.786133</td>\n      <td>pics_0.bin</td>\n    </tr>\n    <tr>\n      <th>4</th>\n      <td>0.428467</td>\n      <td>0.922241</td>\n      <td>1.361694</td>\n      <td>0.296631</td>\n      <td>1.135254</td>\n      <td>0.856934</td>\n      <td>0.629883</td>\n      <td>0.707397</td>\n      <td>0.797729</td>\n      <td>0.759888</td>\n      <td>0.233154</td>\n      <td>0.765991</td>\n      <td>0.765991</td>\n      <td>0.623169</td>\n      <td>0.587158</td>\n      <td>0.908813</td>\n      <td>0.946045</td>\n      <td>pics_0.bin</td>\n    </tr>\n    <tr>\n      <th>5</th>\n      <td>0.908203</td>\n      <td>1.404419</td>\n      <td>0.296021</td>\n      <td>0.689697</td>\n      <td>0.859375</td>\n      <td>0.614014</td>\n      <td>0.723877</td>\n      <td>0.817871</td>\n      <td>0.854492</td>\n      <td>0.184326</td>\n      <td>0.659180</td>\n      <td>0.805054</td>\n      <td>0.373535</td>\n      <td>0.736084</td>\n      <td>0.798340</td>\n      <td>0.849609</td>\n      <td>0.279541</td>\n      <td>pics_0.bin</td>\n    </tr>\n  </tbody>\n</table>\n</div>"
     },
     "execution_count": 170,
     "metadata": {},
     "output_type": "execute_result"
    }
   ],
   "source": [
    "\n",
    "data = dict()\n",
    "for i in range(17):\n",
    "    data[i] = []\n",
    "data[\"name\"] = []\n",
    "\n",
    "for pic_name in pics_name:\n",
    "    pics_key, info = get_pics_from_file(f'Hackaton/data/{pic_name}')\n",
    "    for pics in pics_key:\n",
    "        for i, pic in enumerate(pics):\n",
    "            data[i].append(pic)\n",
    "        data[\"name\"].append(pic_name)\n",
    "\n",
    "df = pd.DataFrame(data)\n",
    "df.head(6)"
   ],
   "metadata": {
    "collapsed": false,
    "pycharm": {
     "name": "#%%\n"
    }
   }
  },
  {
   "cell_type": "code",
   "execution_count": 171,
   "outputs": [
    {
     "name": "stdout",
     "output_type": "stream",
     "text": [
      "X shape = (351612, 17)\n",
      "y shape = (351612,)\n"
     ]
    }
   ],
   "source": [
    "y = (df.iloc[:, 17].to_numpy())\n",
    "X = (df.iloc[:, :-1].to_numpy())\n",
    "\n",
    "print(\"X shape = \" + str(X.shape))\n",
    "print(\"y shape = \" + str(y.shape))\n"
   ],
   "metadata": {
    "collapsed": false,
    "pycharm": {
     "name": "#%%\n"
    }
   }
  },
  {
   "cell_type": "code",
   "execution_count": 172,
   "outputs": [],
   "source": [
    "# Pre-processing\n",
    "from sklearn.preprocessing import Normalizer\n",
    "from sklearn.preprocessing import MinMaxScaler\n",
    "from sklearn.preprocessing import StandardScaler\n",
    "from sklearn import decomposition\n",
    "\n",
    "\n",
    "X_size = 17     # Number of features\n",
    "\n",
    "# Normalize\n",
    "normalizer = Normalizer()\n",
    "X = normalizer.fit_transform(X)\n",
    "\n",
    "# Standardize\n",
    "scaler = StandardScaler()\n",
    "X = scaler.fit_transform(X)"
   ],
   "metadata": {
    "collapsed": false,
    "pycharm": {
     "name": "#%%\n"
    }
   }
  },
  {
   "cell_type": "code",
   "execution_count": 179,
   "outputs": [],
   "source": [
    "from sklearn.decomposition import PCA\n",
    "\n",
    "pca = PCA(n_components=2)\n",
    "principalComponents = pca.fit_transform(X)\n",
    "principalDf = pd.DataFrame(data = principalComponents, columns = ['principal component 1', 'principal component 2'])\n",
    "\n",
    "Y = pd.DataFrame(data = y, columns = ['name'])\n",
    "\n",
    "finalDf = pd.concat([principalDf, Y], axis = 1)\n",
    "\n"
   ],
   "metadata": {
    "collapsed": false,
    "pycharm": {
     "name": "#%%\n"
    }
   }
  },
  {
   "cell_type": "code",
   "execution_count": 180,
   "outputs": [
    {
     "data": {
      "text/plain": "        principal component 1  principal component 2        name\n0                    1.070290               1.790736  pics_0.bin\n1                   -0.245270               0.270404  pics_0.bin\n2                    0.807469               0.624611  pics_0.bin\n3                    3.647949              -0.267597  pics_0.bin\n4                    4.309956               0.498798  pics_0.bin\n...                       ...                    ...         ...\n351607              -1.418129              -0.817021  pics_Z.bin\n351608               4.060404              -1.351816  pics_Z.bin\n351609              -0.134366               0.405155  pics_Z.bin\n351610              -1.431371              -1.279916  pics_Z.bin\n351611              -1.134960              -0.015920  pics_Z.bin\n\n[351612 rows x 3 columns]",
      "text/html": "<div>\n<style scoped>\n    .dataframe tbody tr th:only-of-type {\n        vertical-align: middle;\n    }\n\n    .dataframe tbody tr th {\n        vertical-align: top;\n    }\n\n    .dataframe thead th {\n        text-align: right;\n    }\n</style>\n<table border=\"1\" class=\"dataframe\">\n  <thead>\n    <tr style=\"text-align: right;\">\n      <th></th>\n      <th>principal component 1</th>\n      <th>principal component 2</th>\n      <th>name</th>\n    </tr>\n  </thead>\n  <tbody>\n    <tr>\n      <th>0</th>\n      <td>1.070290</td>\n      <td>1.790736</td>\n      <td>pics_0.bin</td>\n    </tr>\n    <tr>\n      <th>1</th>\n      <td>-0.245270</td>\n      <td>0.270404</td>\n      <td>pics_0.bin</td>\n    </tr>\n    <tr>\n      <th>2</th>\n      <td>0.807469</td>\n      <td>0.624611</td>\n      <td>pics_0.bin</td>\n    </tr>\n    <tr>\n      <th>3</th>\n      <td>3.647949</td>\n      <td>-0.267597</td>\n      <td>pics_0.bin</td>\n    </tr>\n    <tr>\n      <th>4</th>\n      <td>4.309956</td>\n      <td>0.498798</td>\n      <td>pics_0.bin</td>\n    </tr>\n    <tr>\n      <th>...</th>\n      <td>...</td>\n      <td>...</td>\n      <td>...</td>\n    </tr>\n    <tr>\n      <th>351607</th>\n      <td>-1.418129</td>\n      <td>-0.817021</td>\n      <td>pics_Z.bin</td>\n    </tr>\n    <tr>\n      <th>351608</th>\n      <td>4.060404</td>\n      <td>-1.351816</td>\n      <td>pics_Z.bin</td>\n    </tr>\n    <tr>\n      <th>351609</th>\n      <td>-0.134366</td>\n      <td>0.405155</td>\n      <td>pics_Z.bin</td>\n    </tr>\n    <tr>\n      <th>351610</th>\n      <td>-1.431371</td>\n      <td>-1.279916</td>\n      <td>pics_Z.bin</td>\n    </tr>\n    <tr>\n      <th>351611</th>\n      <td>-1.134960</td>\n      <td>-0.015920</td>\n      <td>pics_Z.bin</td>\n    </tr>\n  </tbody>\n</table>\n<p>351612 rows × 3 columns</p>\n</div>"
     },
     "execution_count": 180,
     "metadata": {},
     "output_type": "execute_result"
    }
   ],
   "source": [
    "finalDf"
   ],
   "metadata": {
    "collapsed": false,
    "pycharm": {
     "name": "#%%\n"
    }
   }
  },
  {
   "cell_type": "code",
   "execution_count": 185,
   "outputs": [
    {
     "data": {
      "text/plain": "<Figure size 576x576 with 1 Axes>",
      "image/png": "[encoded data removed]"
     },
     "metadata": {
      "needs_background": "light"
     },
     "output_type": "display_data"
    }
   ],
   "source": [
    "fig = plt.figure(figsize = (8,8))\n",
    "ax = fig.add_subplot(1,1,1)\n",
    "ax.set_xlabel('Principal Component 1', fontsize = 15)\n",
    "ax.set_ylabel('Principal Component 2', fontsize = 15)\n",
    "ax.set_title('2 component PCA', fontsize = 20)\n",
    "\n",
    "targets = pics_name[3]\n",
    "colors = ['r', 'g', 'b']\n",
    "for target, color in zip(targets,colors):\n",
    "    indicesToKeep = finalDf['name'] == target\n",
    "    ax.scatter(finalDf.loc[indicesToKeep, 'principal component 1']\n",
    "               , finalDf.loc[indicesToKeep, 'principal component 2']\n",
    "               , c = color\n",
    "               , s = 50)\n",
    "ax.legend(targets)\n",
    "ax.grid()"
   ],
   "metadata": {
    "collapsed": false,
    "pycharm": {
     "name": "#%%\n"
    }
   }
  },
  {
   "cell_type": "code",
   "execution_count": 186,
   "outputs": [],
   "source": [],
   "metadata": {
    "collapsed": false,
    "pycharm": {
     "name": "#%%\n"
    }
   }
  },
  {
   "cell_type": "code",
   "execution_count": null,
   "outputs": [],
   "source": [],
   "metadata": {
    "collapsed": false,
    "pycharm": {
     "name": "#%%\n"
    }
   }
  }
 ],
 "metadata": {
  "kernelspec": {
   "name": "python3",
   "language": "python",
   "display_name": "Python 3"
  }
 },
 "nbformat": 4,
 "nbformat_minor": 0
}