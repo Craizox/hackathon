{
 "cells": [
  {
   "cell_type": "code",
   "execution_count": null,
   "metadata": {},
   "outputs": [],
   "source": [
    "import matplotlib.pyplot as plt\n",
    "import numpy as np\n",
    "import pandas as pd\n",
    "import os\n",
    "import seaborn as sns\n",
    "# Pre-processing\n",
    "from sklearn.model_selection import train_test_split\n",
    "from sklearn.preprocessing import Normalizer\n",
    "from sklearn.preprocessing import MinMaxScaler\n",
    "from sklearn.preprocessing import StandardScaler\n",
    "from sklearn.neighbors import KNeighborsClassifier\n",
    "from sklearn import decomposition\n",
    "from sklearn import decomposition, metrics\n",
    "from sklearn.model_selection import train_test_split\n",
    "from sklearn.metrics import classification_report, confusion_matrix"
   ]
  },
  {
   "cell_type": "code",
   "execution_count": null,
   "metadata": {},
   "outputs": [],
   "source": [
    "from Hackaton.python.read_pics import get_pics_from_file"
   ]
  },
  {
   "cell_type": "code",
   "execution_count": null,
   "metadata": {
    "pycharm": {
     "name": "#%%\n"
    }
   },
   "outputs": [],
   "source": [
    "pics_name = os.listdir('Hackaton/data/')\n",
    "pics_name.remove('pics_LOGINMDP.bin')\n"
   ]
  },
  {
   "cell_type": "markdown",
   "metadata": {},
   "source": [
    "## Transform to panda dataset\n"
   ]
  },
  {
   "cell_type": "code",
   "execution_count": null,
   "metadata": {},
   "outputs": [],
   "source": [
    "data = dict()\n",
    "for i in range(17):\n",
    "    data[str(i)] = []\n",
    "data[\"name\"] = []\n",
    "\n",
    "for pic_name in pics_name:\n",
    "    pics_key, info = get_pics_from_file(f'Hackaton/data/{pic_name}')\n",
    "    for pics in pics_key:\n",
    "        for i, pic in enumerate(pics):\n",
    "            data[str(i)].append(pic)\n",
    "        data[\"name\"].append(pic_name)\n",
    "\n",
    "df = pd.DataFrame(data)\n",
    "df.head(6)\n"
   ]
  },
  {
   "cell_type": "code",
   "execution_count": null,
   "metadata": {},
   "outputs": [],
   "source": [
    "X = df.iloc[:, :-1]\n",
    "y = df.iloc[:, 17]\n",
    "\n",
    "print(\"X shape = \" + str(X.shape))\n",
    "print(\"y shape = \" + str(y.shape))"
   ]
  },
  {
   "cell_type": "code",
   "execution_count": null,
   "metadata": {
    "pycharm": {
     "name": "#%%\n"
    }
   },
   "outputs": [],
   "source": []
  },
  {
   "cell_type": "code",
   "execution_count": null,
   "metadata": {},
   "outputs": [],
   "source": [
    "# List of name (X)\n"
   ]
  },
  {
   "cell_type": "code",
   "execution_count": null,
   "metadata": {},
   "outputs": [],
   "source": []
  },
  {
   "cell_type": "code",
   "execution_count": null,
   "metadata": {},
   "outputs": [],
   "source": [
    "\n"
   ]
  },
  {
   "cell_type": "code",
   "execution_count": null,
   "metadata": {},
   "outputs": [],
   "source": [
    "# Normalize\n",
    "normalizer = Normalizer()\n",
    "X = normalizer.fit_transform(X)\n",
    "\n",
    "# Standardize\n",
    "scaler = StandardScaler()\n",
    "X = scaler.fit_transform(X)\n",
    "\n",
    "\n",
    "\n",
    "\n"
   ]
  },
  {
   "cell_type": "code",
   "execution_count": null,
   "outputs": [],
   "source": [
    "pca = decomposition.PCA()\n",
    "pca.fit(X)\n",
    "plt.figure(figsize=(10,8))\n",
    "plt.plot(range(1, 18), pca.explained_variance_ratio_.cumsum(), marker='o', linestyle='--')"
   ],
   "metadata": {
    "collapsed": false,
    "pycharm": {
     "name": "#%%\n"
    }
   }
  },
  {
   "cell_type": "code",
   "execution_count": null,
   "outputs": [],
   "source": [
    "minidf = df.loc[(df[\"name\"] == \"pics_1.bin\") | (df[\"name\"] == \"pics_2.bin\") | (df[\"name\"] == \"pics_5.bin\")]\n",
    "sns.lmplot(x=\"2\", y=\"6\",\n",
    "  data=minidf,\n",
    "  fit_reg=False,\n",
    "  hue='name', # color by cluster\n",
    "  legend=True,\n",
    "  scatter_kws={\"s\": 1}) # specify the point size\n",
    "\n"
   ],
   "metadata": {
    "collapsed": false,
    "pycharm": {
     "name": "#%%\n"
    }
   }
  },
  {
   "cell_type": "code",
   "execution_count": null,
   "outputs": [],
   "source": [
    "X_train, X_test, y_train, y_test = train_test_split(X, y, test_size=0.10, shuffle=True)"
   ],
   "metadata": {
    "collapsed": false,
    "pycharm": {
     "name": "#%%\n"
    }
   }
  },
  {
   "cell_type": "code",
   "execution_count": null,
   "outputs": [],
   "source": [
    "# KNN\n",
    "K = 5\n",
    "\n",
    "# Create and fit model\n",
    "neigh = KNeighborsClassifier(n_neighbors=K)\n",
    "neigh.fit(X_train, y_train)"
   ],
   "metadata": {
    "collapsed": false,
    "pycharm": {
     "name": "#%%\n"
    }
   }
  },
  {
   "cell_type": "code",
   "execution_count": 40,
   "outputs": [
    {
     "data": {
      "text/plain": "NearestCentroid()"
     },
     "execution_count": 40,
     "metadata": {},
     "output_type": "execute_result"
    }
   ],
   "source": [
    "from sklearn.neighbors import NearestCentroid\n",
    "clf = NearestCentroid()\n",
    "clf.fit(X_train, y_train)\n"
   ],
   "metadata": {
    "collapsed": false,
    "pycharm": {
     "name": "#%%\n"
    }
   }
  },
  {
   "cell_type": "code",
   "execution_count": 41,
   "outputs": [
    {
     "name": "stdout",
     "output_type": "stream",
     "text": [
      "0.42463852200721247\n",
      "[[637  76  42 ...   0   0   0]\n",
      " [ 61 137 146 ...   1  12   0]\n",
      " [ 69 155 387 ...   0  10   0]\n",
      " ...\n",
      " [  5   1  15 ... 424   0 346]\n",
      " [  2   2  25 ...   2 289   3]\n",
      " [  2   1  16 ... 422   0 541]]\n",
      "                precision    recall  f1-score   support\n",
      "\n",
      "    pics_0.bin       0.39      0.30      0.34      2144\n",
      "    pics_1.bin       0.18      0.07      0.10      2022\n",
      "    pics_2.bin       0.26      0.18      0.22      2105\n",
      "    pics_3.bin       0.28      0.12      0.17      1961\n",
      "    pics_4.bin       0.27      0.36      0.31      2636\n",
      "    pics_5.bin       0.33      0.20      0.25      2176\n",
      "    pics_6.bin       0.13      0.16      0.14      1943\n",
      "    pics_7.bin       0.26      0.18      0.22      2080\n",
      "    pics_8.bin       0.26      0.14      0.18      2083\n",
      "    pics_9.bin       0.37      0.67      0.47      2001\n",
      "    pics_A.bin       0.40      0.16      0.23      1860\n",
      "    pics_B.bin       0.23      0.23      0.23      1893\n",
      "    pics_C.bin       0.45      0.82      0.58      1968\n",
      " pics_CTRL.bin       0.79      0.83      0.81      2532\n",
      "    pics_D.bin       0.42      0.25      0.31      1984\n",
      "    pics_E.bin       0.44      0.18      0.25      1974\n",
      "pics_ENTER.bin       0.60      0.83      0.70      3425\n",
      "    pics_F.bin       0.41      0.32      0.36      1904\n",
      "    pics_G.bin       0.29      0.23      0.26      1935\n",
      "    pics_H.bin       0.29      0.12      0.17      1957\n",
      "    pics_I.bin       0.51      0.80      0.62      1849\n",
      "    pics_J.bin       0.36      0.81      0.50      1913\n",
      "    pics_K.bin       0.59      0.43      0.50      1975\n",
      "    pics_L.bin       0.78      0.46      0.58      1985\n",
      "    pics_M.bin       0.55      0.17      0.26      2017\n",
      "    pics_N.bin       0.38      0.81      0.52      2033\n",
      "pics_NOKEY.bin       0.57      0.86      0.69      3160\n",
      "    pics_O.bin       0.57      0.80      0.66      1929\n",
      "    pics_P.bin       0.48      0.75      0.58      1961\n",
      "    pics_Q.bin       0.15      0.07      0.09      1888\n",
      "    pics_R.bin       0.39      0.19      0.26      1891\n",
      "    pics_S.bin       0.35      0.63      0.45      2165\n",
      "pics_SHIFT.bin       0.72      0.84      0.78      1751\n",
      "pics_SPACE.bin       0.26      0.20      0.22      1979\n",
      "pics_SUPPR.bin       0.50      0.74      0.59      2016\n",
      "    pics_T.bin       0.38      0.22      0.27      2165\n",
      "    pics_U.bin       0.34      0.13      0.19      2385\n",
      "    pics_V.bin       0.44      0.78      0.57      2070\n",
      "    pics_W.bin       0.37      0.68      0.48      2067\n",
      "    pics_X.bin       0.39      0.20      0.26      2122\n",
      "    pics_Y.bin       0.29      0.14      0.19      2092\n",
      "    pics_Z.bin       0.53      0.28      0.37      1907\n",
      "\n",
      "      accuracy                           0.42     87903\n",
      "     macro avg       0.40      0.41      0.38     87903\n",
      "  weighted avg       0.41      0.42      0.39     87903\n",
      "\n"
     ]
    }
   ],
   "source": [
    "# Test\n",
    "y_pred = clf.predict(X_test)\n",
    "\n",
    "print(metrics.accuracy_score(y_test, y_pred))\n",
    "print(confusion_matrix(y_test, y_pred))\n",
    "print(classification_report(y_test, y_pred))"
   ],
   "metadata": {
    "collapsed": false,
    "pycharm": {
     "name": "#%%\n"
    }
   }
  },
  {
   "cell_type": "code",
   "execution_count": null,
   "metadata": {},
   "outputs": [],
   "source": [
    "# Test\n",
    "y_pred = neigh.predict(X_test)\n",
    "\n",
    "print(metrics.accuracy_score(y_test, y_pred))\n",
    "print(confusion_matrix(y_test, y_pred))\n",
    "print(classification_report(y_test, y_pred))"
   ]
  },
  {
   "cell_type": "code",
   "execution_count": null,
   "outputs": [],
   "source": [
    "from sklearn.metrics import plot_confusion_matrix\n",
    "# Plot non-normalized confusion matrix\n",
    "disp = plot_confusion_matrix(neigh, X_test, y_test,\n",
    "                             cmap=plt.cm.Blues,\n",
    "                             normalize='true')\n",
    "disp.ax_.set_title('Normalized confusion matrix')"
   ],
   "metadata": {
    "collapsed": false,
    "pycharm": {
     "name": "#%%\n"
    }
   }
  },
  {
   "cell_type": "code",
   "execution_count": null,
   "outputs": [],
   "source": [
    "# Test\n",
    "pics_key, info = get_pics_from_file(f'Hackaton/data/pics_LOGINMDP.bin')\n",
    "predictions = []\n",
    "predictions_proba = []\n",
    "for pics in pics_key:\n",
    "    to_predict = normalizer.transform(pics.reshape(1, -1))\n",
    "    to_predict = scaler.transform(to_predict)\n",
    "    key = neigh.predict(to_predict)[0]\n",
    "    if key != 'pics_NOKEY.bin':\n",
    "        predictions.append(key)\n",
    "        predictions_proba.append(neigh.predict_proba(to_predict)[0])\n"
   ],
   "metadata": {
    "collapsed": false,
    "pycharm": {
     "name": "#%%\n"
    }
   }
  },
  {
   "cell_type": "code",
   "execution_count": null,
   "outputs": [],
   "source": [],
   "metadata": {
    "collapsed": false,
    "pycharm": {
     "name": "#%%\n"
    }
   }
  },
  {
   "cell_type": "code",
   "execution_count": null,
   "metadata": {
    "pycharm": {
     "name": "#%%\n"
    }
   },
   "outputs": [],
   "source": [
    "for pic_name in pics_name:\n",
    "    print(f'{pic_name} : {predictions.count(pic_name)}')"
   ]
  },
  {
   "cell_type": "code",
   "execution_count": null,
   "outputs": [],
   "source": [
    "reconstruct = res = list(filter('pics_NOKEY.bin'.__ne__, predictions))\n",
    "print(reconstruct)"
   ],
   "metadata": {
    "collapsed": false,
    "pycharm": {
     "name": "#%%\n"
    }
   }
  },
  {
   "cell_type": "code",
   "execution_count": null,
   "outputs": [],
   "source": [
    "print(predictions)\n"
   ],
   "metadata": {
    "collapsed": false,
    "pycharm": {
     "name": "#%%\n"
    }
   }
  },
  {
   "cell_type": "code",
   "execution_count": null,
   "outputs": [],
   "source": [],
   "metadata": {
    "collapsed": false,
    "pycharm": {
     "name": "#%%\n"
    }
   }
  },
  {
   "cell_type": "code",
   "execution_count": null,
   "outputs": [],
   "source": [],
   "metadata": {
    "collapsed": false,
    "pycharm": {
     "name": "#%%\n"
    }
   }
  }
 ],
 "metadata": {
  "kernelspec": {
   "display_name": "Python 3",
   "language": "python",
   "name": "python3"
  },
  "language_info": {
   "codemirror_mode": {
    "name": "ipython",
    "version": 3
   },
   "file_extension": ".py",
   "mimetype": "text/x-python",
   "name": "python",
   "nbconvert_exporter": "python",
   "pygments_lexer": "ipython3",
   "version": "3.7.9"
  }
 },
 "nbformat": 4,
 "nbformat_minor": 1
}