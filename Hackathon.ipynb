{
 "cells": [
  {
   "cell_type": "code",
   "execution_count": 1,
   "metadata": {},
   "outputs": [],
   "source": [
    "import matplotlib.pyplot as plt\n",
    "import numpy as np\n",
    "import pandas as pd"
   ]
  },
  {
   "cell_type": "code",
   "execution_count": 2,
   "metadata": {},
   "outputs": [],
   "source": [
    "from Hackaton.python.read_pics import get_pics_from_file"
   ]
  },
  {
   "cell_type": "code",
   "execution_count": 3,
   "metadata": {
    "pycharm": {
     "name": "#%%\n"
    }
   },
   "outputs": [],
   "source": [
    "pics_name = [\"pics_0\", \"pics_1\", \"pics_2\", \"pics_3\", \"pics_4\",\n",
    "             \"pics_5\", \"pics_6\", \"pics_7\", \"pics_8\", \"pics_9\", \"pics_NOKEY\"]\n",
    "\n"
   ]
  },
  {
   "cell_type": "markdown",
   "metadata": {},
   "source": [
    "## Transform to panda dataset\n"
   ]
  },
  {
   "cell_type": "code",
   "execution_count": 25,
   "metadata": {},
   "outputs": [
    {
     "name": "stdout",
     "output_type": "stream",
     "text": [
      "Ouverture du fichier de pics Hackaton/data/pics_0.bin\n",
      "Ouverture du fichier de pics Hackaton/data/pics_1.bin\n",
      "Ouverture du fichier de pics Hackaton/data/pics_2.bin\n",
      "Ouverture du fichier de pics Hackaton/data/pics_3.bin\n",
      "Ouverture du fichier de pics Hackaton/data/pics_4.bin\n",
      "Ouverture du fichier de pics Hackaton/data/pics_5.bin\n",
      "Ouverture du fichier de pics Hackaton/data/pics_6.bin\n",
      "Ouverture du fichier de pics Hackaton/data/pics_7.bin\n",
      "Ouverture du fichier de pics Hackaton/data/pics_8.bin\n",
      "Ouverture du fichier de pics Hackaton/data/pics_9.bin\n",
      "Ouverture du fichier de pics Hackaton/data/pics_NOKEY.bin\n"
     ]
    },
    {
     "data": {
      "text/html": [
       "<div>\n",
       "<style scoped>\n",
       "    .dataframe tbody tr th:only-of-type {\n",
       "        vertical-align: middle;\n",
       "    }\n",
       "\n",
       "    .dataframe tbody tr th {\n",
       "        vertical-align: top;\n",
       "    }\n",
       "\n",
       "    .dataframe thead th {\n",
       "        text-align: right;\n",
       "    }\n",
       "</style>\n",
       "<table border=\"1\" class=\"dataframe\">\n",
       "  <thead>\n",
       "    <tr style=\"text-align: right;\">\n",
       "      <th></th>\n",
       "      <th>0</th>\n",
       "      <th>1</th>\n",
       "      <th>2</th>\n",
       "      <th>3</th>\n",
       "      <th>4</th>\n",
       "      <th>5</th>\n",
       "      <th>6</th>\n",
       "      <th>7</th>\n",
       "      <th>8</th>\n",
       "      <th>9</th>\n",
       "      <th>10</th>\n",
       "      <th>11</th>\n",
       "      <th>12</th>\n",
       "      <th>13</th>\n",
       "      <th>14</th>\n",
       "      <th>15</th>\n",
       "      <th>16</th>\n",
       "      <th>name</th>\n",
       "    </tr>\n",
       "  </thead>\n",
       "  <tbody>\n",
       "    <tr>\n",
       "      <th>0</th>\n",
       "      <td>0.968018</td>\n",
       "      <td>1.348877</td>\n",
       "      <td>0.230713</td>\n",
       "      <td>0.941162</td>\n",
       "      <td>0.811157</td>\n",
       "      <td>0.838623</td>\n",
       "      <td>0.671997</td>\n",
       "      <td>0.506592</td>\n",
       "      <td>0.765991</td>\n",
       "      <td>0.277100</td>\n",
       "      <td>0.477295</td>\n",
       "      <td>0.569458</td>\n",
       "      <td>0.371704</td>\n",
       "      <td>0.802002</td>\n",
       "      <td>0.634155</td>\n",
       "      <td>0.509033</td>\n",
       "      <td>0.567017</td>\n",
       "      <td>pics_0</td>\n",
       "    </tr>\n",
       "    <tr>\n",
       "      <th>1</th>\n",
       "      <td>0.754395</td>\n",
       "      <td>1.149902</td>\n",
       "      <td>0.137939</td>\n",
       "      <td>1.062012</td>\n",
       "      <td>0.589600</td>\n",
       "      <td>0.745239</td>\n",
       "      <td>0.734253</td>\n",
       "      <td>0.904541</td>\n",
       "      <td>0.669556</td>\n",
       "      <td>0.085449</td>\n",
       "      <td>0.650635</td>\n",
       "      <td>0.791626</td>\n",
       "      <td>0.339355</td>\n",
       "      <td>0.538330</td>\n",
       "      <td>0.848999</td>\n",
       "      <td>0.687256</td>\n",
       "      <td>0.356445</td>\n",
       "      <td>pics_0</td>\n",
       "    </tr>\n",
       "    <tr>\n",
       "      <th>2</th>\n",
       "      <td>0.765991</td>\n",
       "      <td>1.292725</td>\n",
       "      <td>0.225830</td>\n",
       "      <td>1.033325</td>\n",
       "      <td>0.750122</td>\n",
       "      <td>0.550537</td>\n",
       "      <td>0.760498</td>\n",
       "      <td>0.451660</td>\n",
       "      <td>0.767822</td>\n",
       "      <td>0.393066</td>\n",
       "      <td>0.463867</td>\n",
       "      <td>0.661011</td>\n",
       "      <td>0.431519</td>\n",
       "      <td>0.609741</td>\n",
       "      <td>0.845947</td>\n",
       "      <td>0.637207</td>\n",
       "      <td>0.558472</td>\n",
       "      <td>pics_0</td>\n",
       "    </tr>\n",
       "    <tr>\n",
       "      <th>3</th>\n",
       "      <td>0.573730</td>\n",
       "      <td>0.880127</td>\n",
       "      <td>1.459351</td>\n",
       "      <td>0.375977</td>\n",
       "      <td>1.184692</td>\n",
       "      <td>0.697021</td>\n",
       "      <td>0.614014</td>\n",
       "      <td>0.910645</td>\n",
       "      <td>1.012573</td>\n",
       "      <td>0.670776</td>\n",
       "      <td>0.264282</td>\n",
       "      <td>0.765991</td>\n",
       "      <td>0.631714</td>\n",
       "      <td>0.355835</td>\n",
       "      <td>0.656128</td>\n",
       "      <td>1.054688</td>\n",
       "      <td>0.786133</td>\n",
       "      <td>pics_0</td>\n",
       "    </tr>\n",
       "    <tr>\n",
       "      <th>4</th>\n",
       "      <td>0.428467</td>\n",
       "      <td>0.922241</td>\n",
       "      <td>1.361694</td>\n",
       "      <td>0.296631</td>\n",
       "      <td>1.135254</td>\n",
       "      <td>0.856934</td>\n",
       "      <td>0.629883</td>\n",
       "      <td>0.707397</td>\n",
       "      <td>0.797729</td>\n",
       "      <td>0.759888</td>\n",
       "      <td>0.233154</td>\n",
       "      <td>0.765991</td>\n",
       "      <td>0.765991</td>\n",
       "      <td>0.623169</td>\n",
       "      <td>0.587158</td>\n",
       "      <td>0.908813</td>\n",
       "      <td>0.946045</td>\n",
       "      <td>pics_0</td>\n",
       "    </tr>\n",
       "    <tr>\n",
       "      <th>5</th>\n",
       "      <td>0.908203</td>\n",
       "      <td>1.404419</td>\n",
       "      <td>0.296021</td>\n",
       "      <td>0.689697</td>\n",
       "      <td>0.859375</td>\n",
       "      <td>0.614014</td>\n",
       "      <td>0.723877</td>\n",
       "      <td>0.817871</td>\n",
       "      <td>0.854492</td>\n",
       "      <td>0.184326</td>\n",
       "      <td>0.659180</td>\n",
       "      <td>0.805054</td>\n",
       "      <td>0.373535</td>\n",
       "      <td>0.736084</td>\n",
       "      <td>0.798340</td>\n",
       "      <td>0.849609</td>\n",
       "      <td>0.279541</td>\n",
       "      <td>pics_0</td>\n",
       "    </tr>\n",
       "  </tbody>\n",
       "</table>\n",
       "</div>"
      ],
      "text/plain": [
       "          0         1         2         3         4         5         6  \\\n",
       "0  0.968018  1.348877  0.230713  0.941162  0.811157  0.838623  0.671997   \n",
       "1  0.754395  1.149902  0.137939  1.062012  0.589600  0.745239  0.734253   \n",
       "2  0.765991  1.292725  0.225830  1.033325  0.750122  0.550537  0.760498   \n",
       "3  0.573730  0.880127  1.459351  0.375977  1.184692  0.697021  0.614014   \n",
       "4  0.428467  0.922241  1.361694  0.296631  1.135254  0.856934  0.629883   \n",
       "5  0.908203  1.404419  0.296021  0.689697  0.859375  0.614014  0.723877   \n",
       "\n",
       "          7         8         9        10        11        12        13  \\\n",
       "0  0.506592  0.765991  0.277100  0.477295  0.569458  0.371704  0.802002   \n",
       "1  0.904541  0.669556  0.085449  0.650635  0.791626  0.339355  0.538330   \n",
       "2  0.451660  0.767822  0.393066  0.463867  0.661011  0.431519  0.609741   \n",
       "3  0.910645  1.012573  0.670776  0.264282  0.765991  0.631714  0.355835   \n",
       "4  0.707397  0.797729  0.759888  0.233154  0.765991  0.765991  0.623169   \n",
       "5  0.817871  0.854492  0.184326  0.659180  0.805054  0.373535  0.736084   \n",
       "\n",
       "         14        15        16    name  \n",
       "0  0.634155  0.509033  0.567017  pics_0  \n",
       "1  0.848999  0.687256  0.356445  pics_0  \n",
       "2  0.845947  0.637207  0.558472  pics_0  \n",
       "3  0.656128  1.054688  0.786133  pics_0  \n",
       "4  0.587158  0.908813  0.946045  pics_0  \n",
       "5  0.798340  0.849609  0.279541  pics_0  "
      ]
     },
     "execution_count": 25,
     "metadata": {},
     "output_type": "execute_result"
    }
   ],
   "source": [
    "data = dict()\n",
    "for i in range(17):\n",
    "    data[i] = []\n",
    "data[\"name\"] = []\n",
    "\n",
    "for pic_name in pics_name:\n",
    "    pics_key, info = get_pics_from_file(f'Hackaton/data/{pic_name}.bin')\n",
    "    for pics in pics_key:\n",
    "        for i, pic in enumerate(pics):\n",
    "            data[i].append(pic)\n",
    "        data[\"name\"].append(pic_name)\n",
    "\n",
    "df = pd.DataFrame(data)\n",
    "df.head(6)\n"
   ]
  },
  {
   "cell_type": "code",
   "execution_count": 47,
   "metadata": {},
   "outputs": [
    {
     "name": "stdout",
     "output_type": "stream",
     "text": [
      "(97868,)\n",
      "(97868, 17)\n",
      "X shape = (97868, 17)\n",
      "y shape = (97868,)\n"
     ]
    }
   ],
   "source": [
    "y = (df.iloc[:, 17].to_numpy())\n",
    "X = (df.iloc[:, :-1].to_numpy())\n",
    "\n",
    "print(\"X shape = \" + str(X.shape))\n",
    "print(\"y shape = \" + str(y.shape))"
   ]
  },
  {
   "cell_type": "code",
   "execution_count": 12,
   "metadata": {
    "pycharm": {
     "name": "#%%\n"
    }
   },
   "outputs": [
    {
     "name": "stdout",
     "output_type": "stream",
     "text": [
      "(17, 17)\n"
     ]
    }
   ],
   "source": []
  },
  {
   "cell_type": "code",
   "execution_count": null,
   "metadata": {},
   "outputs": [],
   "source": [
    "# List of name (X)\n"
   ]
  },
  {
   "cell_type": "code",
   "execution_count": null,
   "metadata": {},
   "outputs": [],
   "source": []
  },
  {
   "cell_type": "code",
   "execution_count": null,
   "metadata": {},
   "outputs": [],
   "source": [
    "\n"
   ]
  },
  {
   "cell_type": "code",
   "execution_count": 48,
   "metadata": {},
   "outputs": [],
   "source": [
    "# Pre-processing\n",
    "from sklearn.preprocessing import Normalizer\n",
    "from sklearn.preprocessing import MinMaxScaler\n",
    "from sklearn.preprocessing import StandardScaler\n",
    "from sklearn import decomposition\n",
    "\n",
    "\n",
    "X_size = 17     # Number of features (Pics after PCA)\n",
    "y_size = 42     # Number of keys\n",
    "\n",
    "X_train = None\n",
    "y_train = None\n",
    "\n",
    "X_test = None\n",
    "y_test = None\n",
    "\n",
    "# Normalize\n",
    "X = Normalizer().fit_transform(X)\n",
    "\n",
    "# Standardize\n",
    "X = StandardScaler().fit_transform(X)\n",
    "\n",
    "# PCA\n",
    "#pca = decomposition.PCA(n_components=3)\n",
    "#pca.fit(X)\n",
    "#X = pca.transform(X)"
   ]
  },
  {
   "cell_type": "code",
   "execution_count": 59,
   "metadata": {},
   "outputs": [
    {
     "name": "stdout",
     "output_type": "stream",
     "text": [
      "Ouverture du fichier de pics Hackaton/data/pics_NOKEY.bin\n",
      "(1, 17)\n",
      "['pics_NOKEY']\n"
     ]
    }
   ],
   "source": [
    "# KNN\n",
    "from sklearn.neighbors import KNeighborsClassifier\n",
    "\n",
    "K = 5\n",
    "\n",
    "# Create and fit model\n",
    "neigh = KNeighborsClassifier(n_neighbors=K)\n",
    "neigh.fit(X, y)\n",
    "\n",
    "# Test\n",
    "pics_nokey, info = get_pics_from_file(\"Hackaton/data/pics_NOKEY.bin\")\n",
    "print(pics_nokey[0].reshape(1, -1).shape)\n",
    "print(neigh.predict(pics_nokey[5].reshape(1, -1)))"
   ]
  },
  {
   "cell_type": "code",
   "execution_count": null,
   "metadata": {},
   "outputs": [],
   "source": [
    "# NN\n",
    "import tensorflow as tf\n",
    "\n",
    "# Ceate model\n",
    "model = tf.keras.Sequential([\n",
    "    tf.keras.layers.Dense(X_size, activation='relu'),\n",
    "    tf.keras.layers.Dense(y_size)\n",
    "])\n",
    "\n",
    "# Build model\n",
    "model.compile(optimizer='adam',\n",
    "              loss=tf.keras.losses.CategoricalCrossentropy(from_logits=True),\n",
    "              metrics=['accuracy'])\n",
    "\n",
    "# Debug\n",
    "model.summary()\n",
    "\n",
    "# Train\n",
    "batch_size = 128\n",
    "epochs = 15\n",
    "\n",
    "model.fit(X_train, y_train, batch_size=batch_size, epochs=epochs, validation_split=0.1)\n",
    "\n",
    "# Test\n",
    "score = model.evaluate(X_test, y_test, verbose=0)\n",
    "print(\"Test loss:\", score[0])\n",
    "print(\"Test accuracy:\", score[1])"
   ]
  }
 ],
 "metadata": {
  "kernelspec": {
   "display_name": "Python 3",
   "language": "python",
   "name": "python3"
  },
  "language_info": {
   "codemirror_mode": {
    "name": "ipython",
    "version": 3
   },
   "file_extension": ".py",
   "mimetype": "text/x-python",
   "name": "python",
   "nbconvert_exporter": "python",
   "pygments_lexer": "ipython3",
   "version": "3.7.9"
  }
 },
 "nbformat": 4,
 "nbformat_minor": 1
}